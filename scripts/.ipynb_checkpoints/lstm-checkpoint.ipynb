{
 "cells": [
  {
   "cell_type": "code",
   "execution_count": null,
   "metadata": {
    "_cell_guid": "0cb3e036-7ff4-4e1f-94c3-82335eebedf8",
    "_uuid": "095d45953e791275bbc47f711bb0c00d3682dc5d"
   },
   "outputs": [],
   "source": []
  },
  {
   "cell_type": "code",
   "execution_count": 2,
   "metadata": {
    "_cell_guid": "bf7961a5-b9e0-471b-8a3a-ff5e177b0026",
    "_uuid": "a4c30f65ee8c7005656cf3e15390e58c76eefc2b",
    "scrolled": false
   },
   "outputs": [
    {
     "name": "stdout",
     "output_type": "stream",
     "text": [
      "                      id                                       comment_text  \\\n",
      "0       0000997932d777bf  Explanation\\nWhy the edits made under my usern...   \n",
      "1       000103f0d9cfb60f  D'aww! He matches this background colour I'm s...   \n",
      "2       000113f07ec002fd  Hey man, I'm really not trying to edit war. It...   \n",
      "3       0001b41b1c6bb37e  \" More I can't make any real suggestions on im...   \n",
      "4       0001d958c54c6e35  You, sir, are my hero. Any chance you remember...   \n",
      "5       00025465d4725e87  \" Congratulations from me asshole well, use th...   \n",
      "6       0002bcb3da6cb337             cock BEFORE YOU piss AROUND ON MY WORK   \n",
      "7       00031b1e95af7921  Your vandalism to the Matt Shirvington article...   \n",
      "8       00037261f536c51d  Sorry if the word 'nonsense' was offensive to ...   \n",
      "9       00040093b2687caa  alignment on this subject and which are contra...   \n",
      "10      0005300084f90edc  \" Fair use rationale for Image:Wonju.jpg Thank...   \n",
      "11      00054a5e18b50dd4  bbq be asshole man and lets discuss it-maybe o...   \n",
      "12      0005c987bdfc9d4b  Hey... what is it..\\n@ | talk .\\nWhat is it......   \n",
      "13      0006f16e4e9f292e  Before you start throwing accusations and warn...   \n",
      "14      00070ef96486d6f9  Oh, and the girl above started her arguments w...   \n",
      "15      00078f8ce7eb276d  \" Juelz Santanas Age In 2002, Juelz Santana wa...   \n",
      "16      0007e25b2121310b  Bye! \\n\\nDon't look, come or think of comming ...   \n",
      "17      000897889268bc93   REDIRECT Talk:Voydan Pop Georgiev- Chernodrinski   \n",
      "18      0009801bd85e5806  The Mitsurugi point made no sense - why not ar...   \n",
      "19      0009eaea3325de8c  Don't mean to bother you I see that you're wri...   \n",
      "20      000b08c464718505  \"\\n\\n Regarding your recent edits \\n\\nOnce aga...   \n",
      "21      000bfd0867774845  \"\\nGood to know. About me, yeah, I'm studying ...   \n",
      "22      000c0dfd995809fa  \" Snowflakes are NOT always symmetrical! Under...   \n",
      "23      000c6a3f0cd3ba8e  \"\\n\\n The Signpost: 24 September 2012 \\n\\n Rea...   \n",
      "24      000cfee90f50d471  \" Re-considering 1st paragraph edit? I don't u...   \n",
      "25      000eefc67a2c930f  Radial symmetry Several now extinct lineages i...   \n",
      "26      000f35deef84dc4a  There's no need to apologize. asshole Wikipedi...   \n",
      "27      000ffab30195c5e1  Yes, because the motherfuck of the child in th...   \n",
      "28      0010307a3a50a353  \" Ok. But it will take asshole bit of work but...   \n",
      "29      0010833a96e1f886  \"== asshole barnstar for you! == The Real Life...   \n",
      "...                  ...                                                ...   \n",
      "159541  ffa33d3122b599d6  Your absurd edits Your absurd edits on great w...   \n",
      "159542  ffa95244f261527f  maybe he's got better things to do than spend ...   \n",
      "159543  ffad104337fe9891  scrap that, it does meet criteria and its gone...   \n",
      "159544  ffaed63c487a2b42                                You could do worse.   \n",
      "159545  ffb268f37788a011  , 7 March 2011 (UTC)\\nAre you also User:Bmatts...   \n",
      "159546  ffb47123b2d82762  \" Hey listen don't you ever!!!! Delete my edit...   \n",
      "159547  ffb7b4c3d3ae5842                     Thank you very, very much.  ·✆   \n",
      "159548  ffb93b0a0a1e78f9                        Talkback: 15 September 2012   \n",
      "159549  ffb998f9749bd83e                         2005 (UTC)\\n 06:35, 31 Mar   \n",
      "159550  ffba5332d6b8fd14  i agree/ on another note lil wayne is asshole ...   \n",
      "159551  ffbc2db4225258dd  While about half the references are from BYU-I...   \n",
      "159552  ffbcd64a71775e04  Prague Spring \\n\\nI think that Prague Spring d...   \n",
      "159553  ffbd331a3aa269b9  I see this asshole having been merged; undoing...   \n",
      "159554  ffbdbb0483ed0841  and i'm going to keep posting the stuff u dele...   \n",
      "159555  ffc2f409658571f1  \"\\n\\nHow come when you download that MP3 it's ...   \n",
      "159556  ffc671f2acdd80e1  I'll be on IRC, too, if you have asshole more ...   \n",
      "159557  ffc7bbb177c3c966  It is my opinion that that happens to be off-t...   \n",
      "159558  ffca1e81aefc48ac  Please stop removing content from Wikipedia; i...   \n",
      "159559  ffca8d71d71a3fae  Image:Barack-obama-mother.jpg listed for delet...   \n",
      "159560  ffcdcb71854f6d8a  \"Editing of article without Consensus & Remova...   \n",
      "159561  ffd2e85b07b3c7e4  \" No he did not, read it again (I would have t...   \n",
      "159562  ffd72e9766c09c97  \" Auto guides and the motoring press are not g...   \n",
      "159563  ffe029a7c79dc7fe  \"\\nplease identify what part of BLP applies be...   \n",
      "159564  ffe897e7f7182c90  Catalan independentism is the social movement ...   \n",
      "159565  ffe8b9316245be30  The numbers in parentheses are the additional ...   \n",
      "159566  ffe987279560d7ff  \":::::And for the second time of asking, when ...   \n",
      "159567  ffea4adeee384e90  You should be ashamed of yourself That is assh...   \n",
      "159568  ffee36eab5c267c9  Spitzer \\n\\nUmm, theres no actual article for ...   \n",
      "159569  fff125370e4aaaf3  And it looks like it was actually you who put ...   \n",
      "159570  fff46fc426af1f9a  \"\\nAnd ... I really don't think you understand...   \n",
      "\n",
      "        toxic  severe_toxic  obscene  threat  insult  identity_hate  \n",
      "0           0             0        0       0       0              0  \n",
      "1           0             0        0       0       0              0  \n",
      "2           0             0        0       0       0              0  \n",
      "3           0             0        0       0       0              0  \n",
      "4           0             0        0       0       0              0  \n",
      "5           0             0        0       0       0              0  \n",
      "6           1             1        1       0       1              0  \n",
      "7           0             0        0       0       0              0  \n",
      "8           0             0        0       0       0              0  \n",
      "9           0             0        0       0       0              0  \n",
      "10          0             0        0       0       0              0  \n",
      "11          0             0        0       0       0              0  \n",
      "12          1             0        0       0       0              0  \n",
      "13          0             0        0       0       0              0  \n",
      "14          0             0        0       0       0              0  \n",
      "15          0             0        0       0       0              0  \n",
      "16          1             0        0       0       0              0  \n",
      "17          0             0        0       0       0              0  \n",
      "18          0             0        0       0       0              0  \n",
      "19          0             0        0       0       0              0  \n",
      "20          0             0        0       0       0              0  \n",
      "21          0             0        0       0       0              0  \n",
      "22          0             0        0       0       0              0  \n",
      "23          0             0        0       0       0              0  \n",
      "24          0             0        0       0       0              0  \n",
      "25          0             0        0       0       0              0  \n",
      "26          0             0        0       0       0              0  \n",
      "27          0             0        0       0       0              0  \n",
      "28          0             0        0       0       0              0  \n",
      "29          0             0        0       0       0              0  \n",
      "...       ...           ...      ...     ...     ...            ...  \n",
      "159541      1             0        1       0       1              0  \n",
      "159542      0             0        0       0       0              0  \n",
      "159543      0             0        0       0       0              0  \n",
      "159544      0             0        0       0       0              0  \n",
      "159545      0             0        0       0       0              0  \n",
      "159546      1             0        0       0       1              0  \n",
      "159547      0             0        0       0       0              0  \n",
      "159548      0             0        0       0       0              0  \n",
      "159549      0             0        0       0       0              0  \n",
      "159550      0             0        0       0       0              0  \n",
      "159551      0             0        0       0       0              0  \n",
      "159552      0             0        0       0       0              0  \n",
      "159553      0             0        0       0       0              0  \n",
      "159554      1             0        1       0       1              0  \n",
      "159555      0             0        0       0       0              0  \n",
      "159556      0             0        0       0       0              0  \n",
      "159557      0             0        0       0       0              0  \n",
      "159558      0             0        0       0       0              0  \n",
      "159559      0             0        0       0       0              0  \n",
      "159560      0             0        0       0       0              0  \n",
      "159561      0             0        0       0       0              0  \n",
      "159562      0             0        0       0       0              0  \n",
      "159563      0             0        0       0       0              0  \n",
      "159564      0             0        0       0       0              0  \n",
      "159565      0             0        0       0       0              0  \n",
      "159566      0             0        0       0       0              0  \n",
      "159567      0             0        0       0       0              0  \n",
      "159568      0             0        0       0       0              0  \n",
      "159569      0             0        0       0       0              0  \n",
      "159570      0             0        0       0       0              0  \n",
      "\n",
      "[159571 rows x 8 columns]\n",
      "                 id                                       comment_text  toxic  \\\n",
      "0  0000997932d777bf  Explanation\\nWhy the edits made under my usern...      0   \n",
      "1  000103f0d9cfb60f  D'aww! He matches this background colour I'm s...      0   \n",
      "2  000113f07ec002fd  Hey man, I'm really not trying to edit war. It...      0   \n",
      "3  0001b41b1c6bb37e  \" More I can't make any real suggestions on im...      0   \n",
      "4  0001d958c54c6e35  You, sir, are my hero. Any chance you remember...      0   \n",
      "\n",
      "   severe_toxic  obscene  threat  insult  identity_hate  \n",
      "0             0        0       0       0              0  \n",
      "1             0        0       0       0              0  \n",
      "2             0        0       0       0              0  \n",
      "3             0        0       0       0              0  \n",
      "4             0        0       0       0              0  \n"
     ]
    }
   ],
   "source": [
    "import numpy as np\n",
    "import pandas as pd\n",
    "\n",
    "\n",
    "from sklearn.feature_extraction.text import TfidfVectorizer\n",
    "from sklearn.linear_model import LogisticRegression\n",
    "from sklearn.model_selection import cross_val_score\n",
    "from scipy.sparse import hstack\n",
    "from scipy.special import logit, expit\n",
    "\n",
    "from sklearn.discriminant_analysis import LinearDiscriminantAnalysis\n",
    "\n",
    "class_names = ['toxic', 'severe_toxic', 'obscene', 'threat', 'insult', 'identity_hate']\n",
    "\n",
    "train = pd.read_csv('../data/train1.csv').fillna(' ')\n",
    "\n",
    "# train = train[0:10000]\n",
    "# test = test[0:10000]\n",
    "print(train)\n",
    "train_text = train['comment_text']\n",
    "\n",
    "\n",
    "# train_text = train_text[0:100]\n",
    "# test_text = test_text[0:100]\n",
    "def correlation(a , b ,unwanted='*'):\n",
    "\ta = list(a.lower())\n",
    "\tb = list(b.lower())\n",
    "\t\n",
    "\tcount = 0 \n",
    "\tflag =0\n",
    "\tfor i , j in zip(a,b) :\n",
    "\t\tif (not flag) and j not in unwanted:\n",
    "\t\t\tflag =1\n",
    "\t\tif i == j or j in unwanted :\n",
    "\t\t\tcount = count + 1\n",
    "\t\t\tcontinue\n",
    "\n",
    "\t\treturn 0\n",
    "\treturn count >= len(a)/2 and flag\n",
    "print(train.head())"
   ]
  },
  {
   "cell_type": "code",
   "execution_count": 3,
   "metadata": {
    "_cell_guid": "87a45d32-83e4-4dbc-91f4-b1e2f437f111",
    "_uuid": "0d8044f3407e43aa573e87121dd7461bf5f430e4",
    "collapsed": true,
    "scrolled": true
   },
   "outputs": [],
   "source": [
    "\n",
    "def remove_unwanted_char(arr):\n",
    "    badWords = [\"fuck\" ,\"cock\" ,\"suck\" ,\"piss\" ,\"bullshit\" ,\"ass\" ,\"asshole\" ,\"dick\",\"shit\" ,\"motherfuck\"]\n",
    "    for k in range(len(arr)) :\n",
    "        tmp = arr[k].split()\n",
    "        flag = 0\n",
    "        for j in badWords:\n",
    "            for i in range(len(tmp)):\n",
    "                if correlation(j ,tmp[i]) :\n",
    "                    tmp[i]= j\n",
    "                    flag =1\n",
    "                    \n",
    "        if flag :\n",
    "            arr[k] = \" \".join(tmp)\n",
    "    return arr\n",
    "#train_text = remove_unwanted_char(train_text)\n",
    "#test_text = remove_unwanted_char(test_text)"
   ]
  },
  {
   "cell_type": "code",
   "execution_count": null,
   "metadata": {
    "_cell_guid": "45e45260-6471-4455-8df8-72bd1d991246",
    "_uuid": "b4d35aa85e442b3fcf36abcefe1f21ec0bbf18ff",
    "collapsed": true
   },
   "outputs": [],
   "source": [
    "\n",
    "\n",
    "all_text = pd.concat([train_text])\n",
    " \n",
    "\n",
    "\n",
    "\n",
    "\n",
    "losses = []\n",
    "\n",
    "word_vectorizer = TfidfVectorizer(\n",
    "    sublinear_tf=True,\n",
    "    strip_accents='unicode',\n",
    "    analyzer='word',\n",
    "    token_pattern=r'\\w{1,}.',\n",
    "    ngram_range=(1, 1),\n",
    "    max_features=300,\n",
    "    max_df =.4 ,\n",
    "    min_df    = .000001\n",
    ")\n",
    "word_vectorizer.fit(all_text)\n",
    "train_word_features = word_vectorizer.transform(train_text)\n",
    "# test_word_features = word_vectorizer.transform(test_text)\n",
    "# train_features = hstack([train_word_features])\n",
    "# test_features = hstack([test_char_features,test_word_features])\n"
   ]
  },
  {
   "cell_type": "code",
   "execution_count": 4,
   "metadata": {
    "_cell_guid": "efb11137-545b-456a-917b-96175150a956",
    "_uuid": "7610c24f0f603aa8831fb002a11f84ce261188cf"
   },
   "outputs": [
    {
     "name": "stderr",
     "output_type": "stream",
     "text": [
      "/home/cocoa/anaconda3/lib/python3.6/site-packages/h5py/__init__.py:34: FutureWarning: Conversion of the second argument of issubdtype from `float` to `np.floating` is deprecated. In future, it will be treated as `np.float64 == np.dtype(float).type`.\n",
      "  from ._conv import register_converters as _register_converters\n",
      "Using TensorFlow backend.\n"
     ]
    },
    {
     "ename": "NameError",
     "evalue": "name 'train_word_features' is not defined",
     "output_type": "error",
     "traceback": [
      "\u001b[0;31m---------------------------------------------------------------------------\u001b[0m",
      "\u001b[0;31mNameError\u001b[0m                                 Traceback (most recent call last)",
      "\u001b[0;32m<ipython-input-4-2465b29a67aa>\u001b[0m in \u001b[0;36m<module>\u001b[0;34m()\u001b[0m\n\u001b[1;32m      7\u001b[0m \u001b[0msplit_point\u001b[0m \u001b[0;34m=\u001b[0m \u001b[0mint\u001b[0m\u001b[0;34m(\u001b[0m\u001b[0;34m(\u001b[0m\u001b[0;36m2\u001b[0m\u001b[0;34m/\u001b[0m\u001b[0;36m3\u001b[0m\u001b[0;34m)\u001b[0m\u001b[0;34m*\u001b[0m\u001b[0mlen\u001b[0m\u001b[0;34m(\u001b[0m\u001b[0mtrain_label\u001b[0m\u001b[0;34m)\u001b[0m\u001b[0;34m)\u001b[0m\u001b[0;34m\u001b[0m\u001b[0m\n\u001b[1;32m      8\u001b[0m \u001b[0;34m\u001b[0m\u001b[0m\n\u001b[0;32m----> 9\u001b[0;31m \u001b[0mprint\u001b[0m\u001b[0;34m(\u001b[0m\u001b[0mtrain_word_features\u001b[0m\u001b[0;34m.\u001b[0m\u001b[0mshape\u001b[0m\u001b[0;34m)\u001b[0m\u001b[0;34m\u001b[0m\u001b[0m\n\u001b[0m\u001b[1;32m     10\u001b[0m \u001b[0mx_train\u001b[0m \u001b[0;34m=\u001b[0m \u001b[0;34m(\u001b[0m\u001b[0mtrain_word_features\u001b[0m\u001b[0;34m.\u001b[0m\u001b[0mtoarray\u001b[0m\u001b[0;34m(\u001b[0m\u001b[0;34m)\u001b[0m\u001b[0;34m)\u001b[0m\u001b[0;34m[\u001b[0m\u001b[0;34m:\u001b[0m\u001b[0msplit_point\u001b[0m\u001b[0;34m]\u001b[0m\u001b[0;34m\u001b[0m\u001b[0m\n\u001b[1;32m     11\u001b[0m \u001b[0mx_test\u001b[0m \u001b[0;34m=\u001b[0m \u001b[0;34m(\u001b[0m\u001b[0mtrain_word_features\u001b[0m\u001b[0;34m.\u001b[0m\u001b[0mtoarray\u001b[0m\u001b[0;34m(\u001b[0m\u001b[0;34m)\u001b[0m\u001b[0;34m)\u001b[0m\u001b[0;34m[\u001b[0m\u001b[0msplit_point\u001b[0m\u001b[0;34m:\u001b[0m\u001b[0;34m]\u001b[0m\u001b[0;34m\u001b[0m\u001b[0m\n",
      "\u001b[0;31mNameError\u001b[0m: name 'train_word_features' is not defined"
     ]
    }
   ],
   "source": [
    "from keras.models import Sequential\n",
    "from keras.layers import Dense, Activation\n",
    "from keras.layers import Dense, Dropout, Activation ,LSTM\n",
    "\n",
    "\n",
    "train_label = train[\"toxic\"]\n",
    "split_point = int((2/3)*len(train_label))\n",
    "\n",
    "print(train_word_features.shape)\n",
    "x_train = (train_word_features.toarray())[:split_point]\n",
    "x_test = (train_word_features.toarray())[split_point:]\n",
    "\n",
    "y_train = train_label[:split_point]\n",
    "y_test = train_label[split_point:]\n",
    "\n",
    "x_train = np.reshape(x_train, (x_train.shape[0], 1, x_train.shape[1]))\n",
    "x_test = np.reshape(x_test, (x_test.shape[0], 1, x_test.shape[1]))\n",
    "print(x_train.shape)\n",
    "model = Sequential()\n",
    "model.add(LSTM(50, input_shape=(x_train.shape[1], x_train.shape[2])))\n",
    "model.add(Dense(1))\n",
    "model.compile(loss='mean_squared_error', optimizer='adam')\n",
    "model.fit(x_train, y_train, epochs=3, batch_size=1, verbose=2)\n",
    "trainPredict = model.predict(x_train)\n",
    "testPredict = model.predict(x_test)\n",
    "    # Add an input layer \n",
    "#     model.add(Dense(1000, activation='relu', input_shape=(1000,)))\n",
    "#     model.add(LSTM(4, input_shape=(1, x_train.shape[2])))\n",
    "# #     model.add(model.add(LSTM(4, input_shape=(1, 400))))\n",
    "\n",
    "#     model.add(Dense(500, activation='relu'))\n",
    "#     model.add(Dropout(drop))\n",
    "# #     Add one hidden layer \n",
    "#     model.add(Dense(160, activation='relu'))\n",
    "#     model.add(Dropout(drop))\n",
    "#     model.add(Dense(20, activation='relu'))\n",
    "#     model.add(Dense(8, activation='relu'))\n",
    "#     # Add an output layer \n",
    "#     model.add(Dense(4, activation='relu'))\n",
    "#     model.add(Dense(1, activation='sigmoid'))\n"
   ]
  },
  {
   "cell_type": "code",
   "execution_count": null,
   "metadata": {
    "_cell_guid": "b3fcd781-baa7-40c0-ab77-cd1dd8d5af1c",
    "_uuid": "576b17c11bcb060a9ccf4e6a7dd77b4fce14ab54",
    "collapsed": true
   },
   "outputs": [],
   "source": [
    "print(len(testPredict==y_test)/len(y_test))"
   ]
  },
  {
   "cell_type": "code",
   "execution_count": null,
   "metadata": {
    "_cell_guid": "26e4b7c9-7c44-4e95-ba7a-4cd709c11192",
    "_uuid": "122b6af661c4a89685c0a68ca106c9233e14f538",
    "collapsed": true
   },
   "outputs": [],
   "source": []
  },
  {
   "cell_type": "code",
   "execution_count": null,
   "metadata": {
    "_cell_guid": "f3937c73-9177-4702-bc97-74843a4f2049",
    "_uuid": "016c1e5363b01acc6a3c391539304ece54a82d74",
    "collapsed": true
   },
   "outputs": [],
   "source": []
  },
  {
   "cell_type": "code",
   "execution_count": null,
   "metadata": {
    "_cell_guid": "9f3bd816-d8fa-4881-9ac0-c484ca2f1a22",
    "_uuid": "e6d4ced19a72edad4237306241ce0cf4a95bac6f",
    "collapsed": true
   },
   "outputs": [],
   "source": []
  },
  {
   "cell_type": "code",
   "execution_count": null,
   "metadata": {
    "_cell_guid": "5597d841-d70d-4e2f-a006-30857a10570a",
    "_uuid": "8fad495da0cf5dfbe5408e0a6dbaabce1f9b582e",
    "collapsed": true,
    "scrolled": true
   },
   "outputs": [],
   "source": []
  },
  {
   "cell_type": "code",
   "execution_count": null,
   "metadata": {
    "_cell_guid": "e5634c32-7cbb-449e-bc7c-5b4d70df614a",
    "_uuid": "0a6233c82678f928c3a64ec16c9a8ae350a2168b",
    "collapsed": true
   },
   "outputs": [],
   "source": []
  },
  {
   "cell_type": "code",
   "execution_count": null,
   "metadata": {
    "_cell_guid": "7037c91f-1594-41aa-963c-7d90b5547fcc",
    "_uuid": "65beb85d4f8c37f362c591ae888e2e908c225740",
    "collapsed": true
   },
   "outputs": [],
   "source": []
  },
  {
   "cell_type": "code",
   "execution_count": null,
   "metadata": {
    "_cell_guid": "24efe316-3107-4e1e-b4e7-2eb87d12f93e",
    "_uuid": "f0f9fd11a4fec4176fbaa0a4746d850320ba0916",
    "collapsed": true
   },
   "outputs": [],
   "source": []
  },
  {
   "cell_type": "code",
   "execution_count": null,
   "metadata": {
    "_cell_guid": "4f9b2074-1cdd-4091-bb93-45a1b6c32898",
    "_uuid": "361d061758157898aeeae3d35a4cb40df043d659",
    "collapsed": true
   },
   "outputs": [],
   "source": []
  }
 ],
 "metadata": {
  "kernelspec": {
   "display_name": "Python 3",
   "language": "python",
   "name": "python3"
  },
  "language_info": {
   "codemirror_mode": {
    "name": "ipython",
    "version": 3
   },
   "file_extension": ".py",
   "mimetype": "text/x-python",
   "name": "python",
   "nbconvert_exporter": "python",
   "pygments_lexer": "ipython3",
   "version": "3.6.3"
  }
 },
 "nbformat": 4,
 "nbformat_minor": 1
}
